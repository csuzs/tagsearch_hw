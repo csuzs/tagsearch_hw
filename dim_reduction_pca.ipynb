{
 "cells": [
  {
   "cell_type": "code",
   "execution_count": 7,
   "metadata": {},
   "outputs": [
    {
     "name": "stderr",
     "output_type": "stream",
     "text": [
      "/opt/homebrew/Caskroom/miniconda/base/lib/python3.12/site-packages/pydantic/_internal/_fields.py:161: UserWarning: Field \"model_name\" has conflict with protected namespace \"model_\".\n",
      "\n",
      "You may be able to resolve this warning by setting `model_config['protected_namespaces'] = ('settings_',)`.\n",
      "  warnings.warn(\n"
     ]
    }
   ],
   "source": [
    "from fastembed import TextEmbedding\n",
    "import numpy as np\n",
    "from tagmatch.vec_db import VecDB\n",
    "from pydantic_settings import BaseSettings\n",
    "import pickle\n",
    "from sklearn.decomposition import PCA\n",
    "\n",
    "class Settings(BaseSettings):\n",
    "    model_name: str\n",
    "    cache_dir: str\n",
    "    qdrant_host: str\n",
    "    qdrant_port: int\n",
    "    qdrant_collection: str\n",
    "    reduced_embed_dim: int\n",
    "\n",
    "    class Config:\n",
    "        env_file = \".env\"\n",
    "settings = Settings()\n"
   ]
  },
  {
   "cell_type": "code",
   "execution_count": 2,
   "metadata": {},
   "outputs": [],
   "source": [
    "tags = tags = [\n",
    "    \"Apollo 11\",\n",
    "    \"Moon\",\n",
    "    \"Spacecraft\",\n",
    "    \"Orbiter\",\n",
    "    \"Lander\",\n",
    "    \"Rover\",\n",
    "    \"Probe\",\n",
    "    \"Shuttle\",\n",
    "    \"Satellite\",\n",
    "    \"Space Station\",\n",
    "    \"Space Capsule\",\n",
    "    \"Space Telescope\",\n",
    "    \"Interstellar\",\n",
    "    \"Extraterrestrial\",\n",
    "    \"NASA\",\n",
    "    \"ESA\",\n",
    "    \"Roscosmos\",\n",
    "    \"ISRO\",\n",
    "    \"CNSA\",\n",
    "    \"Launch Vehicle\",\n",
    "    \"Rocket\",\n",
    "    \"Booster\",\n",
    "    \"Thruster\",\n",
    "    \"Propulsion\",\n",
    "    \"Fuel\",\n",
    "    \"Solar Panel\",\n",
    "    \"Antenna\",\n",
    "    \"Docking\",\n",
    "    \"Command Module\",\n",
    "    \"Service Module\",\n",
    "    \"Heat Shield\",\n",
    "    \"Parachute\",\n",
    "    \"Escape System\",\n",
    "    \"Crewed Mission\",\n",
    "    \"Uncrewed Mission\",\n",
    "    \"Space Exploration\",\n",
    "    \"Deep Space\",\n",
    "    \"Low Earth Orbit\",\n",
    "    \"Geostationary Orbit\",\n",
    "    \"Spacewalk\",\n",
    "    \"Extravehicular Activity\",\n",
    "    \"Gravity Assist\",\n",
    "    \"Orbital Insertion\",\n",
    "    \"Reentry\",\n",
    "    \"Landing\",\n",
    "    \"Mars Mission\",\n",
    "    \"Moon Mission\",\n",
    "    \"Venus Mission\",\n",
    "    \"Jupiter Mission\",\n",
    "    \"Saturn Mission\",\n",
    "    \"Asteroid Belt\",\n",
    "    \"Kuiper Belt\",\n",
    "    \"Oort Cloud\",\n",
    "    \"Exoplanet\",\n",
    "    \"Habitat\",\n",
    "    \"Colonization\",\n",
    "    \"Terraforming\",\n",
    "    \"Space Mining\",\n",
    "    \"Space Tourism\",\n",
    "    \"Commercial Spaceflight\",\n",
    "    \"Reusable Rocket\",\n",
    "    \"Launch Pad\",\n",
    "    \"Mission Control\",\n",
    "    \"Telemetry\",\n",
    "    \"Trajectory\",\n",
    "    \"Orbital Mechanics\",\n",
    "    \"Thrust-to-Weight Ratio\",\n",
    "    \"Payload\",\n",
    "    \"Fairing\",\n",
    "    \"Stage Separation\",\n",
    "    \"Vacuum\",\n",
    "    \"Microgravity\",\n",
    "    \"Artificial Gravity\",\n",
    "    \"Radiation Shielding\",\n",
    "    \"Life Support\",\n",
    "    \"Space Suit\",\n",
    "    \"EVA Suit\",\n",
    "    \"MMU\",\n",
    "    \"Space Habitat\",\n",
    "    \"Space Colony\",\n",
    "    \"Lunar Base\",\n",
    "    \"Mars Base\",\n",
    "    \"Astrobiology\",\n",
    "    \"Astrophysics\",\n",
    "    \"Cosmology\",\n",
    "    \"Stellar Navigation\",\n",
    "    \"In-Situ Resource Utilization\",\n",
    "    \"Cryogenic Fuel\",\n",
    "    \"Ion Propulsion\",\n",
    "    \"Plasma Propulsion\",\n",
    "    \"Fusion Propulsion\",\n",
    "    \"Antimatter Propulsion\",\n",
    "    \"Space Debris\",\n",
    "    \"Orbital Decay\",\n",
    "    \"Space Junk\",\n",
    "    \"Space Weather\",\n",
    "    \"Solar Flare\",\n",
    "    \"Cosmic Rays\",\n",
    "    \"Van Allen Belts\",\n",
    "    \"Magnetosphere\",\n",
    "    \"Atmospheric Entry\",\n",
    "    \"Suborbital Flight\",\n",
    "    \"Trans-lunar Injection\",\n",
    "    \"Trans-Martian Injection\",\n",
    "    \"Aerobraking\",\n",
    "    \"Gravity Well\",\n",
    "    \"Lagrange Points\",\n",
    "    \"Hohmann Transfer\",\n",
    "    \"Biological Contamination\",\n",
    "    \"Planetary Protection\",\n",
    "    \"Deep Space Network\",\n",
    "    \"Space Communications\",\n",
    "    \"Interplanetary Travel\",\n",
    "    \"Intergalactic Travel\",\n",
    "    \"Space Elevator\",\n",
    "    \"Launch Window\",\n",
    "    \"Mission Timeline\",\n",
    "    \"Spacecraft Design\",\n",
    "    \"Spacecraft Testing\",\n",
    "    \"Spacecraft Manufacturing\",\n",
    "    \"Rocket Engine\",\n",
    "    \"Liquid Fuel\",\n",
    "    \"Solid Fuel\",\n",
    "    \"Hybrid Fuel\",\n",
    "    \"Cryogenics\",\n",
    "    \"Space Law\",\n",
    "    \"Space Policy\",\n",
    "    \"Astronaut\",\n",
    "    \"Cosmonaut\",\n",
    "    \"Taikonaut\",\n",
    "    \"Space Program\",\n",
    "    \"Space Agency\",\n",
    "    \"Space Race\",\n",
    "    \"Space Treaty\",\n",
    "    \"Outer Space\",\n",
    "    \"Space History\",\n",
    "    \"Space Future\",\n",
    "    \"Space Economy\",\n",
    "    \"Space Business\",\n",
    "    \"Space Industry\",\n",
    "    \"Space Conference\",\n",
    "    \"Space Symposium\",\n",
    "    \"Space Research\",\n",
    "    \"Space Innovation\",\n",
    "    \"Space Technology\",\n",
    "    \"Space Science\",\n",
    "    \"Space Medicine\",\n",
    "    \"Space Psychology\",\n",
    "    \"Space Education\",\n",
    "    \"Space Training\",\n",
    "    \"Space Simulation\",\n",
    "    \"Zero Gravity\",\n",
    "    \"Microgravity Research\",\n",
    "    \"Space Experiment\",\n",
    "    \"Space Laboratory\",\n",
    "    \"Space Observatory\",\n",
    "    \"Space Exploration Rover\",\n",
    "    \"Mars Rover\",\n",
    "    \"Lunar Rover\",\n",
    "    \"Space Probe\",\n",
    "    \"Deep Space Probe\",\n",
    "    \"Interstellar Probe\",\n",
    "    \"Planetary Rover\",\n",
    "    \"Solar System\",\n",
    "    \"Galaxy\",\n",
    "    \"Universe\",\n",
    "    \"Black Hole\",\n",
    "    \"Wormhole\",\n",
    "    \"White Dwarf\",\n",
    "    \"Red Giant\",\n",
    "    \"Neutron Star\",\n",
    "    \"Pulsar\",\n",
    "    \"Quasar\",\n",
    "    \"Supernova\",\n",
    "    \"Dark Matter\",\n",
    "    \"Dark Energy\",\n",
    "    \"Big Bang\",\n",
    "    \"Cosmic Microwave Background\",\n",
    "    \"Gravitational Waves\",\n",
    "    \"Space Art\",\n",
    "    \"Space Culture\",\n",
    "    \"Science Fiction\",\n",
    "    \"Space Opera\",\n",
    "    \"Starship\",\n",
    "    \"Alien Life\",\n",
    "    \"UFO\",\n",
    "    \"Space Documentary\",\n",
    "    \"Space Movie\",\n",
    "    \"Space TV Show\",\n",
    "]"
   ]
  },
  {
   "cell_type": "code",
   "execution_count": 3,
   "metadata": {},
   "outputs": [
    {
     "name": "stderr",
     "output_type": "stream",
     "text": [
      "Fetching 5 files: 100%|██████████| 5/5 [00:00<00:00, 58743.75it/s]\n"
     ]
    }
   ],
   "source": [
    "embedding_model = TextEmbedding()\n",
    "embedding_dim: int = list(embedding_model.embed(\"Test for dims\"))[\n",
    "            0\n",
    "        ].shape[0]"
   ]
  },
  {
   "cell_type": "code",
   "execution_count": 9,
   "metadata": {},
   "outputs": [],
   "source": [
    "tag_embeddings = [list(embedding_model.embed(tag)) for tag in tags]\n",
    "embed_vec=np.asarray(tag_embeddings)"
   ]
  },
  {
   "cell_type": "code",
   "execution_count": 10,
   "metadata": {},
   "outputs": [],
   "source": [
    "embed_vec=embed_vec.squeeze()"
   ]
  },
  {
   "cell_type": "code",
   "execution_count": 11,
   "metadata": {},
   "outputs": [
    {
     "data": {
      "text/plain": [
       "0.9513890146045014"
      ]
     },
     "execution_count": 11,
     "metadata": {},
     "output_type": "execute_result"
    }
   ],
   "source": [
    "pca = PCA(n_components=settings.reduced_embed_dim)\n",
    "\n",
    "pca.fit(embed_vec)\n",
    "sum(pca.explained_variance_ratio_)"
   ]
  },
  {
   "cell_type": "code",
   "execution_count": 45,
   "metadata": {},
   "outputs": [],
   "source": [
    "vec_db = VecDB(\n",
    "    host=\"http://localhost\",\n",
    "    port=6333,\n",
    "    collection=settings.qdrant_collection,\n",
    "    vector_size=settings.reduced_embed_dim,\n",
    ")"
   ]
  },
  {
   "cell_type": "code",
   "execution_count": 46,
   "metadata": {},
   "outputs": [],
   "source": [
    "for name,vec in zip(tags,red_embed_vecs):\n",
    "    vec_db.store(vec,{\"name\":name})"
   ]
  },
  {
   "cell_type": "code",
   "execution_count": 47,
   "metadata": {},
   "outputs": [],
   "source": [
    "reduced_vector_matches = [vec_db.find_closest(query_vector, 5) for query_vector in red_embed_vecs]"
   ]
  },
  {
   "cell_type": "code",
   "execution_count": 60,
   "metadata": {},
   "outputs": [
    {
     "data": {
      "text/plain": [
       "[ScoredPoint(id=10356360874192234358, version=0, score=0.99999994, payload={'name': 'Apollo 11'}, vector=None, shard_key=None, order_value=None),\n",
       " ScoredPoint(id=9793711092478664242, version=46, score=0.3996141, payload={'name': 'Moon Mission'}, vector=None, shard_key=None, order_value=None),\n",
       " ScoredPoint(id=12207098595657543863, version=1, score=0.3779359, payload={'name': 'Moon'}, vector=None, shard_key=None, order_value=None),\n",
       " ScoredPoint(id=12894050092224864253, version=80, score=0.37239692, payload={'name': 'Lunar Base'}, vector=None, shard_key=None, order_value=None),\n",
       " ScoredPoint(id=11172108735014080718, version=49, score=0.28158426, payload={'name': 'Saturn Mission'}, vector=None, shard_key=None, order_value=None)]"
      ]
     },
     "execution_count": 60,
     "metadata": {},
     "output_type": "execute_result"
    }
   ],
   "source": [
    "reduced_vector_matches[0]"
   ]
  },
  {
   "cell_type": "code",
   "execution_count": 56,
   "metadata": {},
   "outputs": [],
   "source": [
    "vec_db_full = VecDB(\n",
    "    host=\"http://localhost\",\n",
    "    port=6333,\n",
    "    collection=\"full\",\n",
    "    vector_size=embedding_dim,\n",
    ")"
   ]
  },
  {
   "cell_type": "code",
   "execution_count": 57,
   "metadata": {},
   "outputs": [],
   "source": [
    "for name,vec in zip(tags,embed_vec):\n",
    "    vec_db_full.store(vec,{\"name\":name})"
   ]
  },
  {
   "cell_type": "code",
   "execution_count": 58,
   "metadata": {},
   "outputs": [],
   "source": [
    "\n",
    "vector_matches = [vec_db_full.find_closest(query_vector, 5) for query_vector in embed_vec]\n"
   ]
  },
  {
   "cell_type": "code",
   "execution_count": 59,
   "metadata": {},
   "outputs": [
    {
     "data": {
      "text/plain": [
       "[ScoredPoint(id=13583038290980744031, version=0, score=0.9999999, payload={'name': 'Apollo 11'}, vector=None, shard_key=None, order_value=None),\n",
       " ScoredPoint(id=9869776390968345825, version=46, score=0.7471009, payload={'name': 'Moon Mission'}, vector=None, shard_key=None, order_value=None),\n",
       " ScoredPoint(id=9306135850958137005, version=1, score=0.72500336, payload={'name': 'Moon'}, vector=None, shard_key=None, order_value=None),\n",
       " ScoredPoint(id=13627112133842308861, version=80, score=0.7157799, payload={'name': 'Lunar Base'}, vector=None, shard_key=None, order_value=None),\n",
       " ScoredPoint(id=13746131591790535275, version=14, score=0.6981933, payload={'name': 'NASA'}, vector=None, shard_key=None, order_value=None)]"
      ]
     },
     "execution_count": 59,
     "metadata": {},
     "output_type": "execute_result"
    }
   ],
   "source": [
    "vector_matches[0]"
   ]
  },
  {
   "cell_type": "code",
   "execution_count": 61,
   "metadata": {},
   "outputs": [],
   "source": [
    "pickle.dump(pca,open(\"pca.pkl\",\"wb\"))"
   ]
  }
 ],
 "metadata": {
  "kernelspec": {
   "display_name": "base",
   "language": "python",
   "name": "python3"
  },
  "language_info": {
   "codemirror_mode": {
    "name": "ipython",
    "version": 3
   },
   "file_extension": ".py",
   "mimetype": "text/x-python",
   "name": "python",
   "nbconvert_exporter": "python",
   "pygments_lexer": "ipython3",
   "version": "3.12.1"
  }
 },
 "nbformat": 4,
 "nbformat_minor": 2
}
