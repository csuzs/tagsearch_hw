{
 "cells": [
  {
   "cell_type": "code",
   "execution_count": 3,
   "metadata": {},
   "outputs": [
    {
     "name": "stderr",
     "output_type": "stream",
     "text": [
      "/opt/homebrew/Caskroom/miniconda/base/lib/python3.12/site-packages/pydantic/_internal/_fields.py:161: UserWarning: Field \"model_name\" has conflict with protected namespace \"model_\".\n",
      "\n",
      "You may be able to resolve this warning by setting `model_config['protected_namespaces'] = ('settings_',)`.\n",
      "  warnings.warn(\n"
     ]
    }
   ],
   "source": [
    "from fastembed import TextEmbedding\n",
    "from tagmatch.vec_db import Embedder\n",
    "import numpy as np\n",
    "from tagmatch.vec_db import VecDB\n",
    "from pydantic_settings import BaseSettings\n",
    "import pickle\n",
    "from sklearn.decomposition import PCA\n",
    "from create_dummy_tags import tags\n",
    "import time\n",
    "class Settings(BaseSettings):\n",
    "    model_name: str\n",
    "    cache_dir: str\n",
    "    qdrant_host: str\n",
    "    qdrant_port: int\n",
    "    qdrant_collection: str\n",
    "    reduced_embed_dim: int\n",
    "    embed_dim: str\n",
    "\n",
    "    class Config:\n",
    "        env_file = \".env\"\n",
    "settings = Settings()\n"
   ]
  },
  {
   "cell_type": "code",
   "execution_count": 9,
   "metadata": {},
   "outputs": [
    {
     "name": "stderr",
     "output_type": "stream",
     "text": [
      "Fetching 5 files: 100%|██████████| 5/5 [00:00<00:00, 27165.18it/s]\n"
     ]
    }
   ],
   "source": [
    "embedder = Embedder(model_name=settings.model_name,cache_dir=settings.cache_dir)\n",
    "tag_embeddings = [embedder.embed(tag) for tag in tags]\n",
    "embed_vec=np.asarray(tag_embeddings)"
   ]
  },
  {
   "cell_type": "code",
   "execution_count": 10,
   "metadata": {},
   "outputs": [
    {
     "data": {
      "text/plain": [
       "0.9513890146045014"
      ]
     },
     "execution_count": 10,
     "metadata": {},
     "output_type": "execute_result"
    }
   ],
   "source": [
    "pca = PCA(n_components=settings.reduced_embed_dim)\n",
    "pca.fit(embed_vec)\n",
    "sum(pca.explained_variance_ratio_)"
   ]
  },
  {
   "cell_type": "code",
   "execution_count": 12,
   "metadata": {},
   "outputs": [
    {
     "data": {
      "text/plain": [
       "(189, 112)"
      ]
     },
     "execution_count": 12,
     "metadata": {},
     "output_type": "execute_result"
    }
   ],
   "source": [
    "red_embed_vecs = pca.transform(embed_vec)\n",
    "red_embed_vecs.shape"
   ]
  },
  {
   "cell_type": "code",
   "execution_count": 16,
   "metadata": {},
   "outputs": [],
   "source": [
    "vec_db = VecDB(\n",
    "    host=\"http://localhost\",\n",
    "    port=6333,\n",
    "    collection=\"pca_train_test_reduced\",\n",
    "    vector_size=settings.reduced_embed_dim,\n",
    ")"
   ]
  },
  {
   "cell_type": "code",
   "execution_count": 17,
   "metadata": {},
   "outputs": [],
   "source": [
    "for name,vec in zip(tags,red_embed_vecs):\n",
    "    vec_db.store(vec,{\"name\":name})"
   ]
  },
  {
   "cell_type": "code",
   "execution_count": 19,
   "metadata": {},
   "outputs": [
    {
     "name": "stdout",
     "output_type": "stream",
     "text": [
      "0.5253142952919007\n"
     ]
    }
   ],
   "source": [
    "\n",
    "measured_times= []\n",
    "for i in range(100):\n",
    "    start = time.time()\n",
    "    reduced_vector_matches = [vec_db.find_closest(query_vector, 5) for query_vector in red_embed_vecs]\n",
    "    end = time.time()\n",
    "    measured_times.append(end-start)\n",
    "print(np.mean(measured_times))"
   ]
  },
  {
   "cell_type": "code",
   "execution_count": 60,
   "metadata": {},
   "outputs": [
    {
     "data": {
      "text/plain": [
       "[ScoredPoint(id=10356360874192234358, version=0, score=0.99999994, payload={'name': 'Apollo 11'}, vector=None, shard_key=None, order_value=None),\n",
       " ScoredPoint(id=9793711092478664242, version=46, score=0.3996141, payload={'name': 'Moon Mission'}, vector=None, shard_key=None, order_value=None),\n",
       " ScoredPoint(id=12207098595657543863, version=1, score=0.3779359, payload={'name': 'Moon'}, vector=None, shard_key=None, order_value=None),\n",
       " ScoredPoint(id=12894050092224864253, version=80, score=0.37239692, payload={'name': 'Lunar Base'}, vector=None, shard_key=None, order_value=None),\n",
       " ScoredPoint(id=11172108735014080718, version=49, score=0.28158426, payload={'name': 'Saturn Mission'}, vector=None, shard_key=None, order_value=None)]"
      ]
     },
     "execution_count": 60,
     "metadata": {},
     "output_type": "execute_result"
    }
   ],
   "source": [
    "reduced_vector_matches[0]"
   ]
  },
  {
   "cell_type": "code",
   "execution_count": 24,
   "metadata": {},
   "outputs": [],
   "source": [
    "vec_db_full = VecDB(\n",
    "    host=\"http://localhost\",\n",
    "    port=6333,\n",
    "    collection=\"train_test\",\n",
    "    vector_size=embedder.embedding_dim,\n",
    ")"
   ]
  },
  {
   "cell_type": "code",
   "execution_count": 25,
   "metadata": {},
   "outputs": [],
   "source": [
    "for name,vec in zip(tags,embed_vec):\n",
    "    vec_db_full.store(vec,{\"name\":name})"
   ]
  },
  {
   "cell_type": "code",
   "execution_count": 28,
   "metadata": {},
   "outputs": [
    {
     "name": "stdout",
     "output_type": "stream",
     "text": [
      "0.5317504286766053\n"
     ]
    }
   ],
   "source": [
    "\n",
    "measured_times= []\n",
    "for i in range(100):\n",
    "    start = time.time()\n",
    "    vector_matches = [vec_db_full.find_closest(query_vector, 5) for query_vector in embed_vec]\n",
    "    end = time.time()\n",
    "    measured_times.append(end-start)\n",
    "print(np.mean(measured_times))\n"
   ]
  },
  {
   "cell_type": "code",
   "execution_count": 30,
   "metadata": {},
   "outputs": [
    {
     "data": {
      "text/plain": [
       "[ScoredPoint(id=9878243588891342145, version=0, score=0.9999999, payload={'name': 'Apollo 11'}, vector=None, shard_key=None, order_value=None),\n",
       " ScoredPoint(id=11749326104151005753, version=46, score=0.7471009, payload={'name': 'Moon Mission'}, vector=None, shard_key=None, order_value=None),\n",
       " ScoredPoint(id=9865584330471821811, version=1, score=0.72500336, payload={'name': 'Moon'}, vector=None, shard_key=None, order_value=None),\n",
       " ScoredPoint(id=11089151293137662142, version=80, score=0.7157799, payload={'name': 'Lunar Base'}, vector=None, shard_key=None, order_value=None),\n",
       " ScoredPoint(id=12676724818710015134, version=14, score=0.6981933, payload={'name': 'NASA'}, vector=None, shard_key=None, order_value=None)]"
      ]
     },
     "execution_count": 30,
     "metadata": {},
     "output_type": "execute_result"
    }
   ],
   "source": [
    "vector_matches[0]"
   ]
  },
  {
   "cell_type": "code",
   "execution_count": 61,
   "metadata": {},
   "outputs": [],
   "source": [
    "pickle.dump(pca,open(\"pca.pkl\",\"wb\"))"
   ]
  }
 ],
 "metadata": {
  "kernelspec": {
   "display_name": "base",
   "language": "python",
   "name": "python3"
  },
  "language_info": {
   "codemirror_mode": {
    "name": "ipython",
    "version": 3
   },
   "file_extension": ".py",
   "mimetype": "text/x-python",
   "name": "python",
   "nbconvert_exporter": "python",
   "pygments_lexer": "ipython3",
   "version": "3.12.1"
  }
 },
 "nbformat": 4,
 "nbformat_minor": 2
}
