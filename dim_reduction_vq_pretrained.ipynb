{
 "cells": [
  {
   "cell_type": "code",
   "execution_count": 6,
   "metadata": {},
   "outputs": [
    {
     "name": "stderr",
     "output_type": "stream",
     "text": [
      "/opt/homebrew/Caskroom/miniconda/base/envs/tagsearch/lib/python3.11/site-packages/pydantic/_internal/_fields.py:161: UserWarning: Field \"model_name\" has conflict with protected namespace \"model_\".\n",
      "\n",
      "You may be able to resolve this warning by setting `model_config['protected_namespaces'] = ('settings_',)`.\n",
      "  warnings.warn(\n"
     ]
    }
   ],
   "source": [
    "from tagmatch.vec_db import Embedder\n",
    "import numpy as np\n",
    "from tagmatch.vec_db import VecDB\n",
    "import pickle\n",
    "from sentence_transformers.quantization import quantize_embeddings\n",
    "from create_dummy_tags import tags\n",
    "from pydantic_settings import BaseSettings\n",
    "class Settings(BaseSettings):\n",
    "    model_name: str\n",
    "    cache_dir: str\n",
    "    qdrant_host: str\n",
    "    qdrant_port: int\n",
    "    qdrant_collection: str\n",
    "    reduced_embed_dim: int\n",
    "\n",
    "    class Config:\n",
    "        env_file = \".env\"\n",
    "settings=Settings()"
   ]
  },
  {
   "cell_type": "code",
   "execution_count": 4,
   "metadata": {},
   "outputs": [
    {
     "name": "stderr",
     "output_type": "stream",
     "text": [
      "Fetching 5 files: 100%|██████████| 5/5 [00:00<00:00, 33825.03it/s]\n"
     ]
    }
   ],
   "source": [
    "embedder = Embedder(model_name=settings.model_name,cache_dir=settings.cache_dir)\n",
    "tag_embeddings = [embedder.embed(tag) for tag in extended_tags]\n",
    "embed_vecs=np.asarray(tag_embeddings)"
   ]
  },
  {
   "cell_type": "code",
   "execution_count": 35,
   "metadata": {},
   "outputs": [],
   "source": [
    "qembed_vecs = quantize_embeddings(embed_vecs,precision=\"binary\")"
   ]
  },
  {
   "cell_type": "code",
   "execution_count": 37,
   "metadata": {},
   "outputs": [],
   "source": [
    "vec_db = VecDB(\n",
    "    host=\"http://localhost\",\n",
    "    port=6333,\n",
    "    collection=\"pca_train_test_reduced\",\n",
    "    vector_size=48,\n",
    ")"
   ]
  },
  {
   "cell_type": "code",
   "execution_count": 38,
   "metadata": {},
   "outputs": [],
   "source": [
    "for name,vec in zip(tags,qembed_vecs):\n",
    "    vec_db.store(vec,{\"name\":name})"
   ]
  },
  {
   "cell_type": "code",
   "execution_count": 40,
   "metadata": {},
   "outputs": [],
   "source": [
    "reduced_vector_matches = [vec_db.find_closest(query_vector, 5) for query_vector in qembed_vecs]"
   ]
  },
  {
   "cell_type": "code",
   "execution_count": 42,
   "metadata": {},
   "outputs": [
    {
     "data": {
      "text/plain": [
       "[ScoredPoint(id=9682909050782155870, version=0, score=1.0, payload={'name': 'Apollo 11'}, vector=None, shard_key=None, order_value=None),\n",
       " ScoredPoint(id=11658385836130133823, version=109, score=0.460904, payload={'name': 'Planetary Protection'}, vector=None, shard_key=None, order_value=None),\n",
       " ScoredPoint(id=12092732572154152545, version=139, score=0.440875, payload={'name': 'Space Industry'}, vector=None, shard_key=None, order_value=None),\n",
       " ScoredPoint(id=13348738339898441951, version=55, score=0.41671443, payload={'name': 'Colonization'}, vector=None, shard_key=None, order_value=None),\n",
       " ScoredPoint(id=9984194481627360211, version=14, score=0.41425395, payload={'name': 'NASA'}, vector=None, shard_key=None, order_value=None)]"
      ]
     },
     "execution_count": 42,
     "metadata": {},
     "output_type": "execute_result"
    }
   ],
   "source": [
    "reduced_vector_matches[0]"
   ]
  },
  {
   "cell_type": "code",
   "execution_count": 44,
   "metadata": {},
   "outputs": [],
   "source": [
    "vec_db_full = VecDB(\n",
    "    host=\"http://localhost\",\n",
    "    port=6333,\n",
    "    collection=\"train_test\",\n",
    "    vector_size=embedder.embedding_dim,\n",
    ")"
   ]
  },
  {
   "cell_type": "code",
   "execution_count": 45,
   "metadata": {},
   "outputs": [],
   "source": [
    "for name,vec in zip(tags,embed_vecs):\n",
    "    vec_db_full.store(vec,{\"name\":name})"
   ]
  },
  {
   "cell_type": "code",
   "execution_count": 46,
   "metadata": {},
   "outputs": [],
   "source": [
    "vector_matches = [vec_db_full.find_closest(query_vector, 5) for query_vector in embed_vecs]"
   ]
  },
  {
   "cell_type": "code",
   "execution_count": 47,
   "metadata": {},
   "outputs": [
    {
     "data": {
      "text/plain": [
       "[ScoredPoint(id=13374045570609575028, version=0, score=0.9999999, payload={'name': 'Apollo 11'}, vector=None, shard_key=None, order_value=None),\n",
       " ScoredPoint(id=12127991403884983481, version=46, score=0.7471009, payload={'name': 'Moon Mission'}, vector=None, shard_key=None, order_value=None),\n",
       " ScoredPoint(id=10662690989898557273, version=1, score=0.72500336, payload={'name': 'Moon'}, vector=None, shard_key=None, order_value=None),\n",
       " ScoredPoint(id=12915431704230016658, version=80, score=0.7157799, payload={'name': 'Lunar Base'}, vector=None, shard_key=None, order_value=None),\n",
       " ScoredPoint(id=13405533713018267398, version=14, score=0.6981933, payload={'name': 'NASA'}, vector=None, shard_key=None, order_value=None)]"
      ]
     },
     "execution_count": 47,
     "metadata": {},
     "output_type": "execute_result"
    }
   ],
   "source": [
    "vector_matches[0]"
   ]
  },
  {
   "cell_type": "code",
   "execution_count": null,
   "metadata": {},
   "outputs": [],
   "source": []
  }
 ],
 "metadata": {
  "kernelspec": {
   "display_name": "base",
   "language": "python",
   "name": "python3"
  },
  "language_info": {
   "codemirror_mode": {
    "name": "ipython",
    "version": 3
   },
   "file_extension": ".py",
   "mimetype": "text/x-python",
   "name": "python",
   "nbconvert_exporter": "python",
   "pygments_lexer": "ipython3",
   "version": "3.11.5"
  }
 },
 "nbformat": 4,
 "nbformat_minor": 2
}
